{
 "cells": [
  {
   "cell_type": "code",
   "execution_count": null,
   "id": "98f6783e-10e8-4e94-894a-4148710072de",
   "metadata": {},
   "outputs": [],
   "source": [
    "#please note the foolowing  include in code for user friendliness\n",
    "if price > 2500 "
   ]
  }
 ],
 "metadata": {
  "kernelspec": {
   "display_name": "Python 3 (ipykernel)",
   "language": "python",
   "name": "python3"
  },
  "language_info": {
   "codemirror_mode": {
    "name": "ipython",
    "version": 3
   },
   "file_extension": ".py",
   "mimetype": "text/x-python",
   "name": "python",
   "nbconvert_exporter": "python",
   "pygments_lexer": "ipython3",
   "version": "3.11.7"
  }
 },
 "nbformat": 4,
 "nbformat_minor": 5
}
