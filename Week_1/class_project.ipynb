{
 "cells": [
  {
   "cell_type": "code",
   "execution_count": 8,
   "id": "f2bca235-14be-46a3-abeb-147c14631b20",
   "metadata": {},
   "outputs": [
    {
     "name": "stdout",
     "output_type": "stream",
     "text": [
      "Which of the following would you like me to calculate?\n",
      "a) Simple Interest\n",
      "b) Compound Interest\n",
      "c) Annuity Plan\n",
      "Please select an option.\n"
     ]
    },
    {
     "name": "stdin",
     "output_type": "stream",
     "text": [
      "Enter an option: Annuity Plan\n"
     ]
    },
    {
     "name": "stdout",
     "output_type": "stream",
     "text": [
      "Note: Option must fall within the options listed above exactly the way it is.\n"
     ]
    },
    {
     "name": "stdin",
     "output_type": "stream",
     "text": [
      "Enter the principal value: 5\n",
      "Enter the rate value: 3\n",
      "Enter the time: 6\n",
      "Enter the number of intervals: 2\n",
      "Enter the value of each annuity payment: 6\n"
     ]
    },
    {
     "name": "stdout",
     "output_type": "stream",
     "text": [
      "The annuity plan is: 238414.5791015625\n"
     ]
    }
   ],
   "source": [
    "# Python program to solve certain problems\n",
    "print(\"Which of the following would you like me to calculate?\")\n",
    "print(\"a) Simple Interest\")\n",
    "print(\"b) Compound Interest\")\n",
    "print(\"c) Annuity Plan\")\n",
    "print(\"Please select an option.\")\n",
    "\n",
    "#A line of code to collect input from the user.\n",
    "option = input(\"Enter an option:\")\n",
    "print(\"Note: Option must fall within the options listed above exactly the way it is.\")\n",
    "\n",
    "#Using a bunch of if statements to enhance user experience\n",
    "if option == \"Simple Interest\":\n",
    "    P = float(input(\"Enter the principal value:\"))\n",
    "    R = float(input(\"Enter the rate value:\"))\n",
    "    T = int(input(\"Enter the time:\"))\n",
    "    A = P * ((1 + (R / 100)) * T)\n",
    "    simple_interest = A - P\n",
    "    print(\"The value of the simple interest is:\", simple_interest)\n",
    "\n",
    "elif option == \"Compound Interest\":\n",
    "    P = float(input(\"Enter the principal value:\"))\n",
    "    R = float(input(\"Enter the rate value:\"))\n",
    "    t = int(input(\"Enter the time:\"))\n",
    "    n = int(input(\"Enter the number of intervals:\"))\n",
    "    A = P * (pow(1 + (R / n), n * t))\n",
    "    compound_interest = A - P\n",
    "    print(\"The compound interest is:\", compound_interest)\n",
    "\n",
    "elif option == \"Annuity Plan\":\n",
    "    P = float(input(\"Enter the principal value:\"))\n",
    "    R = float(input(\"Enter the rate value:\"))\n",
    "    t = int(input(\"Enter the time:\"))\n",
    "    n = int(input(\"Enter the number of intervals:\"))\n",
    "    PMT = int(input(\"Enter the value of each annuity payment:\"))\n",
    "    annuity_plan = PMT * ((pow(1 + (R / n), n * t) - 1) / (R / n))\n",
    "    print(\"The annuity plan is:\", annuity_plan)\n",
    "\n",
    "else:\n",
    "    print(\"The option you chose does not fall within the given options provided\")\n",
    "    \n",
    "    \n",
    "                     \n",
    "                     \n",
    "                     \n",
    "    \n",
    "              \n",
    "          \n",
    "    \n",
    "    \n",
    "              \n",
    "\n",
    "\n",
    "\n",
    "\n"
   ]
  },
  {
   "cell_type": "code",
   "execution_count": null,
   "id": "5e051f64-2164-46aa-86e1-5e24e267ca94",
   "metadata": {},
   "outputs": [],
   "source": [
    "Compound interest\n",
    "\n",
    "\n"
   ]
  },
  {
   "cell_type": "code",
   "execution_count": null,
   "id": "a70d26c2-fd16-4e86-a136-db21d1db6155",
   "metadata": {},
   "outputs": [],
   "source": []
  },
  {
   "cell_type": "code",
   "execution_count": null,
   "id": "51d07bd8-73e6-43ac-8e79-c6d71db43bf4",
   "metadata": {},
   "outputs": [],
   "source": []
  },
  {
   "cell_type": "code",
   "execution_count": null,
   "id": "48cd435c-373f-4bfb-b955-2878e05014a6",
   "metadata": {},
   "outputs": [],
   "source": []
  }
 ],
 "metadata": {
  "kernelspec": {
   "display_name": "Python 3 (ipykernel)",
   "language": "python",
   "name": "python3"
  },
  "language_info": {
   "codemirror_mode": {
    "name": "ipython",
    "version": 3
   },
   "file_extension": ".py",
   "mimetype": "text/x-python",
   "name": "python",
   "nbconvert_exporter": "python",
   "pygments_lexer": "ipython3",
   "version": "3.11.7"
  }
 },
 "nbformat": 4,
 "nbformat_minor": 5
}
