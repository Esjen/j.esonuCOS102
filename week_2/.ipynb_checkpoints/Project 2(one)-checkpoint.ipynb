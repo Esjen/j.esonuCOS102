{
 "cells": [
  {
   "cell_type": "code",
   "execution_count": null,
   "id": "102d2040-4451-40e1-9ed6-24c83f8a7e4d",
   "metadata": {},
   "outputs": [],
   "source": [
    "#ALGORITHM TO FIND THE ROOT OF A CUBIC,QUARTIC AND QUADRATIC EQUATION\n",
    "10 CLS\n",
    "20 REM ALGORITHM TO FIND THE ROOT OF A CUBIC,QUARTIC AND QUADRATIC EQUATION\n",
    "30 INPUT A,B,C,D\n",
    "40 IF INPUT = CUBIC\n",
    "50 PRINT OUTPUT\n",
    "60 ELSE IF INPUT = QUARTIC\n",
    "70 PRINT OUTPUT\n",
    "80 ELSE IF INPUT = QUADRATIC\n",
    "80 PRINT OUTPUT\n",
    "90 ELSE\n",
    "100 PRINT NONE\n"
   ]
  }
 ],
 "metadata": {
  "kernelspec": {
   "display_name": "Python 3 (ipykernel)",
   "language": "python",
   "name": "python3"
  },
  "language_info": {
   "codemirror_mode": {
    "name": "ipython",
    "version": 3
   },
   "file_extension": ".py",
   "mimetype": "text/x-python",
   "name": "python",
   "nbconvert_exporter": "python",
   "pygments_lexer": "ipython3",
   "version": "3.11.7"
  }
 },
 "nbformat": 4,
 "nbformat_minor": 5
}
