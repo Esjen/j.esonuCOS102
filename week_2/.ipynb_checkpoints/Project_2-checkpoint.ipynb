{
 "cells": [
  {
   "cell_type": "code",
   "execution_count": 5,
   "id": "46884c86-57fc-46b6-b24d-30cc40454cac",
   "metadata": {},
   "outputs": [
    {
     "name": "stdout",
     "output_type": "stream",
     "text": [
      "Hello! which of the following equations would you like me to solve?\n",
      "Please select an option from the list below:\n",
      "1. cubic equation\n",
      "2. quartic equation\n",
      "3. quadratic equation\n"
     ]
    },
    {
     "name": "stdin",
     "output_type": "stream",
     "text": [
      "Enter a choice: 1\n"
     ]
    },
    {
     "name": "stdout",
     "output_type": "stream",
     "text": [
      "Note: You can only select 1,2 or 3 as a choice\n"
     ]
    },
    {
     "name": "stdin",
     "output_type": "stream",
     "text": [
      "Enter the value of first coefficient: 2\n",
      "Enter the value of second coefficient: 3\n",
      "Enter the value of third coefficient: 4\n",
      "Enter the value of fourth coefficient: 5\n"
     ]
    },
    {
     "ename": "TypeError",
     "evalue": "must be real number, not complex",
     "output_type": "error",
     "traceback": [
      "\u001b[1;31m---------------------------------------------------------------------------\u001b[0m",
      "\u001b[1;31mTypeError\u001b[0m                                 Traceback (most recent call last)",
      "Cell \u001b[1;32mIn[5], line 21\u001b[0m\n\u001b[0;32m     19\u001b[0m q \u001b[38;5;241m=\u001b[39m (b \u001b[38;5;241m*\u001b[39m\u001b[38;5;241m*\u001b[39m \u001b[38;5;241m2\u001b[39m) \u001b[38;5;241m-\u001b[39m (\u001b[38;5;241m3\u001b[39m \u001b[38;5;241m*\u001b[39m a \u001b[38;5;241m*\u001b[39m c)\n\u001b[0;32m     20\u001b[0m i \u001b[38;5;241m=\u001b[39m (\u001b[38;5;241m2\u001b[39m \u001b[38;5;241m*\u001b[39m (b \u001b[38;5;241m*\u001b[39m\u001b[38;5;241m*\u001b[39m \u001b[38;5;241m3\u001b[39m)) \u001b[38;5;241m-\u001b[39m (\u001b[38;5;241m9\u001b[39m \u001b[38;5;241m*\u001b[39m a \u001b[38;5;241m*\u001b[39m b \u001b[38;5;241m*\u001b[39m c) \u001b[38;5;241m+\u001b[39m (\u001b[38;5;241m27\u001b[39m \u001b[38;5;241m*\u001b[39m (a \u001b[38;5;241m*\u001b[39m\u001b[38;5;241m*\u001b[39m \u001b[38;5;241m2\u001b[39m) \u001b[38;5;241m*\u001b[39m d)\n\u001b[1;32m---> 21\u001b[0m r1 \u001b[38;5;241m=\u001b[39m math\u001b[38;5;241m.\u001b[39mcbrt((i \u001b[38;5;241m+\u001b[39m sqrt((i \u001b[38;5;241m*\u001b[39m\u001b[38;5;241m*\u001b[39m \u001b[38;5;241m2\u001b[39m) \u001b[38;5;241m-\u001b[39m (\u001b[38;5;241m4\u001b[39m \u001b[38;5;241m*\u001b[39m (q \u001b[38;5;241m*\u001b[39m\u001b[38;5;241m*\u001b[39m \u001b[38;5;241m3\u001b[39m))) \u001b[38;5;241m/\u001b[39m \u001b[38;5;241m2\u001b[39m))\n\u001b[0;32m     22\u001b[0m e \u001b[38;5;241m=\u001b[39m (\u001b[38;5;241m-\u001b[39m\u001b[38;5;241m1\u001b[39m \u001b[38;5;241m+\u001b[39m sqrt(\u001b[38;5;241m-\u001b[39m\u001b[38;5;241m3\u001b[39m)) \u001b[38;5;241m/\u001b[39m \u001b[38;5;241m2\u001b[39m\n\u001b[0;32m     23\u001b[0m x1 \u001b[38;5;241m=\u001b[39m (\u001b[38;5;241m-\u001b[39m\u001b[38;5;241m1\u001b[39m \u001b[38;5;241m/\u001b[39m (\u001b[38;5;241m3\u001b[39m \u001b[38;5;241m*\u001b[39m a)) \u001b[38;5;241m*\u001b[39m (b \u001b[38;5;241m+\u001b[39m r1 \u001b[38;5;241m+\u001b[39m (q \u001b[38;5;241m/\u001b[39m r1))\n",
      "\u001b[1;31mTypeError\u001b[0m: must be real number, not complex"
     ]
    }
   ],
   "source": [
    "# Program to find the roots of a cubic,quartic and quadratic equation\n",
    "print(\"Hello! which of the following equations would you like me to solve?\")\n",
    "print(\"Please select an option from the list below:\")\n",
    "print(\"1. cubic equation\")\n",
    "print(\"2. quartic equation\")\n",
    "print(\"3. quadratic equation\")\n",
    "\n",
    "from cmath import sqrt\n",
    "import math\n",
    "\n",
    "choice = input(\"Enter a choice:\")\n",
    "print(\"Note: You can only select 1,2 or 3 as a choice\")\n",
    "\n",
    "if choice == \"1\":\n",
    "    a = float(input(\"Enter the value of first coefficient:\"))\n",
    "    b = float(input(\"Enter the value of second coefficient:\"))\n",
    "    c = float(input(\"Enter the value of third coefficient:\"))\n",
    "    d = float(input(\"Enter the value of fourth coefficient:\"))\n",
    "    q = (b ** 2) - (3 * a * c)\n",
    "    i = (2 * (b ** 3)) - (9 * a * b * c) + (27 * (a ** 2) * d)\n",
    "    r1 = math.cbrt((i + math.sqrt((i ** 2) - (4 * (q ** 3))) / 2))\n",
    "    e = (-1 + sqrt(-3)) / 2\n",
    "    x1 = (-1 / (3 * a)) * (b + r1 + (q / r1))\n",
    "    x2 = (-1 / (3 * a)) * (b + (e * r1)) + (q / (e * r1))\n",
    "    x3 = (-1 / (3 * a)) * (b + ((e**2) * r1) + (q / ((e**2) * r1)))\n",
    "    print(f\"The roots of the cubic equation  {a}x3 + {b}x2 + {c}x + {d} = 0 are {x1},{x2}, and {x3}\")\n",
    "\n",
    "elif choice == \"2\":\n",
    "      a = float(input(\"Enter the value of first coefficient:\"))\n",
    "      b = float(input(\"Enter the value of second coefficient:\"))\n",
    "      c = float(input(\"Enter the value of third coefficient:\"))\n",
    "      d = float(input(\"Enter the value of fourth coefficient:\"))\n",
    "      e = float(input(\"Enter the value of fifth coefficient:\"))\n",
    "      w = (8 * a * c) - (3 * (b ** 2))\n",
    "      o = (16 * (a ** 2) * e) - (16 * a * b) + (5 * (b ** 3)) + (16 * c * d) - (8 * (b ** 2) * e)\n",
    "      x1 = (-b / (4 * a)) + (sqrt(w) / (4 * a)) + ((sqrt(-o)) / (4 * a))\n",
    "      x2 = (-b / (4 * a)) - (sqrt(w) / (4 * a)) + ((sqrt(-o)) / (4 * a))\n",
    "      x3 = (-b / (4 * a)) + (sqrt(w) / (4 * a)) - ((sqrt(-o)) / (4 * a))\n",
    "      x4 = (-b / (4 * a)) - (sqrt(w) / (4 * a)) - ((sqrt(-o)) / (4 * a))\n",
    "      print(f\"The roots of the quartic equation  {a}x4 + {b}x3 + {c}x2 + {d}x + {e} = 0 are {x1},{x2},{x3}, and {x4}\")\n",
    "\n",
    "elif choice == \"3\":\n",
    "      a = float(input(\"Enter the value of first coefficient:\"))\n",
    "      b = float(input(\"Enter the value of second coefficient:\"))\n",
    "      c = float(input(\"Enter the value of third coefficient:\"))\n",
    "      d = sqrt((b ** 2) - (4 * a * c))\n",
    "      x1 = (-b + d) / (2 * a) \n",
    "      x2 = (-b - d) / (2 * a)\n",
    "      print(f\"The roots of the quadratic equation {a}x2 + {b}x + c = 0 are {x1} and {x2}\")\n",
    "\n",
    "else:\n",
    " print(\"The number you picked does not exist\") \n",
    "      \n",
    "\n",
    "       \n",
    "      \n"
   ]
  },
  {
   "cell_type": "code",
   "execution_count": null,
   "id": "4143c4cc-9e81-4a43-9853-0f439d29e63a",
   "metadata": {},
   "outputs": [],
   "source": []
  }
 ],
 "metadata": {
  "kernelspec": {
   "display_name": "Python 3 (ipykernel)",
   "language": "python",
   "name": "python3"
  },
  "language_info": {
   "codemirror_mode": {
    "name": "ipython",
    "version": 3
   },
   "file_extension": ".py",
   "mimetype": "text/x-python",
   "name": "python",
   "nbconvert_exporter": "python",
   "pygments_lexer": "ipython3",
   "version": "3.11.7"
  }
 },
 "nbformat": 4,
 "nbformat_minor": 5
}
