{
 "cells": [
  {
   "cell_type": "code",
   "execution_count": null,
   "id": "1fde0d06-58ed-4c04-be28-a3a19e0df677",
   "metadata": {},
   "outputs": [],
   "source": [
    "#Pseudocode for store checkout purchase\n",
    "10 CLS\n",
    "20 REM \"Store checkout after purchase\"\n",
    "30 PRINT \"What do you want to buy\"\n",
    "40 INPUT \"Items\"\n",
    "50 PRINT \" Is that all you want to buy?\"\n",
    "60 INPUT \" Customer response\"\n",
    "70 DISPLAY \"Price of items\"\n",
    "80 INPUT \"Customer bank details\"\n",
    "90 PRINT \" RECEIPT\"\n",
    "100 PRINT \"GOODBYE,COME BACK NEXT TIME\"\n",
    "\n",
    "# Algorithm to swap ages \n",
    "10 CLS\n",
    "20 REM \" Algorithm to swap ages\"\n",
    "30 INPUT NAME1\n",
    "40 INPUT AGE1\n",
    "50 INPUT NAME2\n",
    "60 INPUT AGE2\n",
    "70 AGE1 = CLONING(AGE2)\n",
    "80 AGE2 = CLONING(AGE1)\n",
    "90 PRINT NAME1,NAME2,AGE1,AGE2"
   ]
  }
 ],
 "metadata": {
  "kernelspec": {
   "display_name": "Python 3 (ipykernel)",
   "language": "python",
   "name": "python3"
  },
  "language_info": {
   "codemirror_mode": {
    "name": "ipython",
    "version": 3
   },
   "file_extension": ".py",
   "mimetype": "text/x-python",
   "name": "python",
   "nbconvert_exporter": "python",
   "pygments_lexer": "ipython3",
   "version": "3.11.7"
  }
 },
 "nbformat": 4,
 "nbformat_minor": 5
}
