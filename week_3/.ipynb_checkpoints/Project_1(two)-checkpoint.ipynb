{
 "cells": [
  {
   "cell_type": "code",
   "execution_count": null,
   "id": "0cdee363-cf82-4b44-b236-b5c92d89e1d0",
   "metadata": {},
   "outputs": [],
   "source": [
    "#Algorithm for project 2\n",
    "\n",
    "START\n",
    "INPUT BOYS DATA\n",
    "INPUT GIRLS DATA\n",
    "FOR VALUES IN GIRLS DATA\n",
    "PRINT DATA \n",
    "FOR ITEMS IN BOYS DATA\n",
    "PRINT DATA\n",
    "END"
   ]
  }
 ],
 "metadata": {
  "kernelspec": {
   "display_name": "Python 3 (ipykernel)",
   "language": "python",
   "name": "python3"
  },
  "language_info": {
   "codemirror_mode": {
    "name": "ipython",
    "version": 3
   },
   "file_extension": ".py",
   "mimetype": "text/x-python",
   "name": "python",
   "nbconvert_exporter": "python",
   "pygments_lexer": "ipython3",
   "version": "3.11.7"
  }
 },
 "nbformat": 4,
 "nbformat_minor": 5
}
