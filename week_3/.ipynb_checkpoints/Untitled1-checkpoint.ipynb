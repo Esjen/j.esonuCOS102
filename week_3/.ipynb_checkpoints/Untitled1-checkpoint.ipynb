{
 "cells": [
  {
   "cell_type": "code",
   "execution_count": 2,
   "id": "8b9bcc72-5b25-498a-be0b-07e2ec025475",
   "metadata": {},
   "outputs": [
    {
     "name": "stdin",
     "output_type": "stream",
     "text": [
      "Enter your years of experience(in years):  45\n",
      "Enter your age(in years):  50\n"
     ]
    },
    {
     "name": "stdout",
     "output_type": "stream",
     "text": [
      "Your Annual Tax Revenue (ATR) is N4,480,000\n"
     ]
    }
   ],
   "source": [
    "# Python Program for Izifin Technology\n",
    "\n",
    "staff_years_of_experience = int(input(\"Enter your years of experience(in years): \"))\n",
    "\n",
    "staff_age = int(input(\"Enter your age(in years): \"))\n",
    "\n",
    "# Implementing conditions:\n",
    "\n",
    "if staff_years_of_experience > 25 and staff_age >= 55:\n",
    "    print(f\"Your Annual Tax Revenue (ATR) is N5,600,000\")\n",
    "    \n",
    "elif staff_years_of_experience > 20 and staff_age >= 45:\n",
    "    print(f\"Your Annual Tax Revenue (ATR) is N4,480,000\")\n",
    "\n",
    "elif staff_years_of_experience > 10 and staff_age >= 35:\n",
    "    print(f\"Your Annual Tax Revenue (ATR) is N1,500,000\")\n",
    "\n",
    "elif staff_years_of_experience < 10 and staff_age < 35:\n",
    "    print(f\"Your Annual Tax Revenue (ATR) is 550,000\")\n",
    "\n",
    "else:\n",
    "    print(f\"You have no Annual Tax Revenue\")"
   ]
  },
  {
   "cell_type": "code",
   "execution_count": null,
   "id": "e30d207c-726a-491f-80b6-884cf754be32",
   "metadata": {},
   "outputs": [],
   "source": []
  }
 ],
 "metadata": {
  "kernelspec": {
   "display_name": "Python 3 (ipykernel)",
   "language": "python",
   "name": "python3"
  },
  "language_info": {
   "codemirror_mode": {
    "name": "ipython",
    "version": 3
   },
   "file_extension": ".py",
   "mimetype": "text/x-python",
   "name": "python",
   "nbconvert_exporter": "python",
   "pygments_lexer": "ipython3",
   "version": "3.11.7"
  }
 },
 "nbformat": 4,
 "nbformat_minor": 5
}
