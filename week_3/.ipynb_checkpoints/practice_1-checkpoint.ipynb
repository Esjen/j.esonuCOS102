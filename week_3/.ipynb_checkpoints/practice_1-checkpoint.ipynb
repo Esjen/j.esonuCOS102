{
 "cells": [
  {
   "cell_type": "code",
   "execution_count": 1,
   "id": "1d46a65b-dfd0-49ce-b7c9-e44b7f95a889",
   "metadata": {},
   "outputs": [
    {
     "name": "stdin",
     "output_type": "stream",
     "text": [
      "Enter the name of City 1:  switzerland\n",
      "Enter the name of City 2:  poland\n"
     ]
    },
    {
     "name": "stdout",
     "output_type": "stream",
     "text": [
      "The name of the City 1 after swapping is poland\n",
      "The name of the City 2 after swapping is switzerland\n"
     ]
    }
   ],
   "source": [
    "# Python program to swap two cities\n",
    "\n",
    "# To take inputs from the user\n",
    "city_1 = input('Enter the name of City 1: ')\n",
    "city_2 = input('Enter the name of City 2: ')\n",
    "\n",
    "# create a temporary variable and swap the cities\n",
    "temp = city_1\n",
    "city_1 = city_2\n",
    "city_2 = temp\n",
    "\n",
    "print(f'The name of the City 1 after swapping is {city_1}')\n",
    "print(f'The name of the City 2 after swapping is {city_2}')"
   ]
  },
  {
   "cell_type": "code",
   "execution_count": null,
   "id": "3e19e8b7-7ab0-4a16-9343-52bb9675c703",
   "metadata": {},
   "outputs": [],
   "source": []
  }
 ],
 "metadata": {
  "kernelspec": {
   "display_name": "Python 3 (ipykernel)",
   "language": "python",
   "name": "python3"
  },
  "language_info": {
   "codemirror_mode": {
    "name": "ipython",
    "version": 3
   },
   "file_extension": ".py",
   "mimetype": "text/x-python",
   "name": "python",
   "nbconvert_exporter": "python",
   "pygments_lexer": "ipython3",
   "version": "3.11.7"
  }
 },
 "nbformat": 4,
 "nbformat_minor": 5
}
