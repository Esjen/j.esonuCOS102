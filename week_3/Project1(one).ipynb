{
 "cells": [
  {
   "cell_type": "code",
   "execution_count": 16,
   "id": "02292e4e-8ef2-4ab3-9159-8023b0753783",
   "metadata": {},
   "outputs": [
    {
     "name": "stdout",
     "output_type": "stream",
     "text": [
      "Chinedu | 19 | 5.7 | 74\n",
      "Liam | 16 | 5.9 | 87\n",
      "Wale | 18 | 5.8 | 75\n",
      "Gbenga | 17 | 6.1 | 68\n",
      "Abiola | 20 | 5.9 | 66\n",
      "Kola | 19 | 5.5 | 78\n",
      "Kunle | 16 | 6.1 | 87\n",
      "George | 18 | 5.4 | 98\n",
      "Thomas | 17 | 5.8 | 54\n",
      "Wesley | 19 | 5.7 | 60\n",
      "Evelyn | 17 | 5.5 | 80\n",
      "Jessica | 16 | 6.0 | 85\n",
      "Somto | 17 | 5.4 | 70\n",
      "Edith | 18 | 5.9 | 60\n",
      "Liza | 16 | 5.6 | 76\n",
      "Madonna | 18 | 5.5 | 66\n",
      "Waje | 17 | 6.1 | 87\n",
      "Tola | 20 | 6.0 | 95\n",
      "Aisha | 19 | 5.7 | 50\n",
      "Latifa | 17 | 5.5 | 49\n"
     ]
    }
   ],
   "source": [
    "# Python program to represent certain data in a tabular format.\n",
    "\n",
    "# Girls table\n",
    "\n",
    "Girls_table = {'Names':['Evelyn', 'Jessica', 'Somto', 'Edith', 'Liza', 'Madonna', 'Waje', 'Tola', 'Aisha', 'Latifa'],\n",
    "               'Age':[17, 16, 17, 18, 16, 18, 17, 20, 19, 17],\n",
    "               'Height':[5.5, 6.0, 5.4, 5.9, 5.6, 5.5, 6.1, 6.0, 5.7, 5.5],\n",
    "               'Scores':[80, 85, 70, 60, 76, 66, 87, 95, 50, 49]\n",
    "              }\n",
    "\n",
    "# Boys table\n",
    "\n",
    "Boys_table = {'Names':['Chinedu', 'Liam', 'Wale', 'Gbenga', 'Abiola', 'Kola', 'Kunle', 'George', 'Thomas', 'Wesley'],\n",
    "              'Age': [19,16,18,17,20,19,16,18,17,19],\n",
    "              'Height':[5.7,5.9,5.8,6.1,5.9,5.5,6.1,5.4,5.8,5.7],\n",
    "              'Scores':[74,87,75,68,66,78,87,98,54,60]\n",
    "             }\n",
    "\n",
    "for i in range(10):\n",
    "    value = list(Boys_table.values())\n",
    "    print(f\"{value[0][i]} | {value[1][i]} | {value[2][i]} | {value[3][i]}\")\n",
    "\n",
    "for j in range(10):\n",
    "    value = list(Girls_table.values())\n",
    "    print(f\"{value[0][j]} | {value[1][j]} | {value[2][j]} | {value[3][j]}\")\n",
    "    "
   ]
  },
  {
   "cell_type": "code",
   "execution_count": null,
   "id": "a619ca6c-29a8-4c3b-9605-95bae10225cf",
   "metadata": {},
   "outputs": [],
   "source": []
  }
 ],
 "metadata": {
  "kernelspec": {
   "display_name": "Python 3 (ipykernel)",
   "language": "python",
   "name": "python3"
  },
  "language_info": {
   "codemirror_mode": {
    "name": "ipython",
    "version": 3
   },
   "file_extension": ".py",
   "mimetype": "text/x-python",
   "name": "python",
   "nbconvert_exporter": "python",
   "pygments_lexer": "ipython3",
   "version": "3.11.7"
  }
 },
 "nbformat": 4,
 "nbformat_minor": 5
}
