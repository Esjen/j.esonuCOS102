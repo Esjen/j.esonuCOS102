{
 "cells": [
  {
   "cell_type": "code",
   "execution_count": 3,
   "id": "2d375003-2db7-4034-9649-064470e869e5",
   "metadata": {},
   "outputs": [
    {
     "name": "stdout",
     "output_type": "stream",
     "text": [
      "Girls:\n",
      "Name|Age|Height|Score\n",
      "---------------------\n"
     ]
    },
    {
     "ename": "TypeError",
     "evalue": "list indices must be integers or slices, not str",
     "output_type": "error",
     "traceback": [
      "\u001b[1;31m---------------------------------------------------------------------------\u001b[0m",
      "\u001b[1;31mTypeError\u001b[0m                                 Traceback (most recent call last)",
      "Cell \u001b[1;32mIn[3], line 29\u001b[0m\n\u001b[0;32m     27\u001b[0m \u001b[38;5;66;03m# Display the data for girls\u001b[39;00m\n\u001b[0;32m     28\u001b[0m \u001b[38;5;28mprint\u001b[39m(\u001b[38;5;124m\"\u001b[39m\u001b[38;5;124mGirls:\u001b[39m\u001b[38;5;124m\"\u001b[39m)\n\u001b[1;32m---> 29\u001b[0m print_table(girls_data)\n\u001b[0;32m     31\u001b[0m \u001b[38;5;66;03m# Display the data for boys\u001b[39;00m\n\u001b[0;32m     32\u001b[0m \u001b[38;5;28mprint\u001b[39m(\u001b[38;5;124m\"\u001b[39m\u001b[38;5;130;01m\\n\u001b[39;00m\u001b[38;5;124mBoys:\u001b[39m\u001b[38;5;124m\"\u001b[39m)\n",
      "Cell \u001b[1;32mIn[3], line 24\u001b[0m, in \u001b[0;36mprint_table\u001b[1;34m(data)\u001b[0m\n\u001b[0;32m     22\u001b[0m \u001b[38;5;28mprint\u001b[39m(\u001b[38;5;124m'\u001b[39m\u001b[38;5;124m-\u001b[39m\u001b[38;5;124m'\u001b[39m \u001b[38;5;241m*\u001b[39m \u001b[38;5;28mlen\u001b[39m(header_row))\n\u001b[0;32m     23\u001b[0m \u001b[38;5;28;01mfor\u001b[39;00m item \u001b[38;5;129;01min\u001b[39;00m data:\n\u001b[1;32m---> 24\u001b[0m     row \u001b[38;5;241m=\u001b[39m \u001b[38;5;124m'\u001b[39m\u001b[38;5;124m|\u001b[39m\u001b[38;5;124m'\u001b[39m\u001b[38;5;241m.\u001b[39mjoin(\u001b[38;5;28mstr\u001b[39m(data[item][key]) \u001b[38;5;28;01mfor\u001b[39;00m key \u001b[38;5;129;01min\u001b[39;00m headers)\n\u001b[0;32m     25\u001b[0m     \u001b[38;5;28mprint\u001b[39m(row)\n",
      "Cell \u001b[1;32mIn[3], line 24\u001b[0m, in \u001b[0;36m<genexpr>\u001b[1;34m(.0)\u001b[0m\n\u001b[0;32m     22\u001b[0m \u001b[38;5;28mprint\u001b[39m(\u001b[38;5;124m'\u001b[39m\u001b[38;5;124m-\u001b[39m\u001b[38;5;124m'\u001b[39m \u001b[38;5;241m*\u001b[39m \u001b[38;5;28mlen\u001b[39m(header_row))\n\u001b[0;32m     23\u001b[0m \u001b[38;5;28;01mfor\u001b[39;00m item \u001b[38;5;129;01min\u001b[39;00m data:\n\u001b[1;32m---> 24\u001b[0m     row \u001b[38;5;241m=\u001b[39m \u001b[38;5;124m'\u001b[39m\u001b[38;5;124m|\u001b[39m\u001b[38;5;124m'\u001b[39m\u001b[38;5;241m.\u001b[39mjoin(\u001b[38;5;28mstr\u001b[39m(data[item][key]) \u001b[38;5;28;01mfor\u001b[39;00m key \u001b[38;5;129;01min\u001b[39;00m headers)\n\u001b[0;32m     25\u001b[0m     \u001b[38;5;28mprint\u001b[39m(row)\n",
      "\u001b[1;31mTypeError\u001b[0m: list indices must be integers or slices, not str"
     ]
    }
   ],
   "source": [
    "# Define the data for girls\n",
    "girls_data = {\n",
    "    'Name': ['Evelyn', 'Jessica', 'Somto', 'Edith', 'Liza', 'Madonna', 'Waje', 'Tola', 'Aisha', 'Latifa'],\n",
    "    'Age': [17, 16, 17, 18, 16, 18, 17, 20, 19, 17],\n",
    "    'Height': [5.5, 6.0, 5.4, 5.9, 5.6, 5.5, 6.1, 6.0, 5.7, 5.5],\n",
    "    'Score': [80, 85, 70, 60, 76, 66, 87, 95, 50, 49]\n",
    "}\n",
    "\n",
    "# Define the data for boys\n",
    "boys_data = {\n",
    "    'Name': ['Chinedu', 'Liam', 'Wale', 'Gbenga', 'Abiola', 'Kola', 'Kunle', 'George', 'Thomas', 'Wesley'],\n",
    "    'Age': [19, 16, 18, 17, 20, 19, 16, 18, 17, 19],\n",
    "    'Height': [5.7, 5.9, 5.8, 6.1, 5.9, 5.5, 6.1, 5.4, 5.8, 5.7],\n",
    "    'Score': [74, 87, 75, 68, 66, 78, 87, 98, 54, 60]\n",
    "}\n",
    "\n",
    "# Function to print data in tabular format\n",
    "def print_table(data):\n",
    "    headers = ['Name', 'Age', 'Height', 'Score']\n",
    "    header_row = '|'.join(headers)\n",
    "    print(header_row)\n",
    "    print('-' * len(header_row))\n",
    "    for item in data:\n",
    "        row = '|'.join(str(data[item][key]) for key in headers)\n",
    "        print(row)\n",
    "\n",
    "# Display the data for girls\n",
    "print(\"Girls:\")\n",
    "print_table(girls_data)\n",
    "\n",
    "# Display the data for boys\n",
    "print(\"\\nBoys:\")\n",
    "print_table(boys_data)\n",
    "\n"
   ]
  },
  {
   "cell_type": "code",
   "execution_count": 4,
   "id": "573b5922-81b0-4c69-9474-a1524082d18d",
   "metadata": {},
   "outputs": [
    {
     "name": "stdout",
     "output_type": "stream",
     "text": [
      "Girls:\n",
      "Name|Age|Height|Score\n",
      "---------------------\n"
     ]
    },
    {
     "ename": "TypeError",
     "evalue": "list indices must be integers or slices, not str",
     "output_type": "error",
     "traceback": [
      "\u001b[1;31m---------------------------------------------------------------------------\u001b[0m",
      "\u001b[1;31mTypeError\u001b[0m                                 Traceback (most recent call last)",
      "Cell \u001b[1;32mIn[4], line 29\u001b[0m\n\u001b[0;32m     27\u001b[0m \u001b[38;5;66;03m# Display the data for girls\u001b[39;00m\n\u001b[0;32m     28\u001b[0m \u001b[38;5;28mprint\u001b[39m(\u001b[38;5;124m\"\u001b[39m\u001b[38;5;124mGirls:\u001b[39m\u001b[38;5;124m\"\u001b[39m)\n\u001b[1;32m---> 29\u001b[0m print_table(girls_data)\n\u001b[0;32m     31\u001b[0m \u001b[38;5;66;03m# Display the data for boys\u001b[39;00m\n\u001b[0;32m     32\u001b[0m \u001b[38;5;28mprint\u001b[39m(\u001b[38;5;124m\"\u001b[39m\u001b[38;5;130;01m\\n\u001b[39;00m\u001b[38;5;124mBoys:\u001b[39m\u001b[38;5;124m\"\u001b[39m)\n",
      "Cell \u001b[1;32mIn[4], line 24\u001b[0m, in \u001b[0;36mprint_table\u001b[1;34m(data)\u001b[0m\n\u001b[0;32m     22\u001b[0m \u001b[38;5;28mprint\u001b[39m(\u001b[38;5;124m'\u001b[39m\u001b[38;5;124m-\u001b[39m\u001b[38;5;124m'\u001b[39m \u001b[38;5;241m*\u001b[39m \u001b[38;5;28mlen\u001b[39m(header_row))\n\u001b[0;32m     23\u001b[0m \u001b[38;5;28;01mfor\u001b[39;00m item \u001b[38;5;129;01min\u001b[39;00m data:\n\u001b[1;32m---> 24\u001b[0m     row \u001b[38;5;241m=\u001b[39m \u001b[38;5;124m'\u001b[39m\u001b[38;5;124m|\u001b[39m\u001b[38;5;124m'\u001b[39m\u001b[38;5;241m.\u001b[39mjoin(\u001b[38;5;28mstr\u001b[39m(data[item][key]) \u001b[38;5;28;01mfor\u001b[39;00m key \u001b[38;5;129;01min\u001b[39;00m headers)\n\u001b[0;32m     25\u001b[0m     \u001b[38;5;28mprint\u001b[39m(row)\n",
      "Cell \u001b[1;32mIn[4], line 24\u001b[0m, in \u001b[0;36m<genexpr>\u001b[1;34m(.0)\u001b[0m\n\u001b[0;32m     22\u001b[0m \u001b[38;5;28mprint\u001b[39m(\u001b[38;5;124m'\u001b[39m\u001b[38;5;124m-\u001b[39m\u001b[38;5;124m'\u001b[39m \u001b[38;5;241m*\u001b[39m \u001b[38;5;28mlen\u001b[39m(header_row))\n\u001b[0;32m     23\u001b[0m \u001b[38;5;28;01mfor\u001b[39;00m item \u001b[38;5;129;01min\u001b[39;00m data:\n\u001b[1;32m---> 24\u001b[0m     row \u001b[38;5;241m=\u001b[39m \u001b[38;5;124m'\u001b[39m\u001b[38;5;124m|\u001b[39m\u001b[38;5;124m'\u001b[39m\u001b[38;5;241m.\u001b[39mjoin(\u001b[38;5;28mstr\u001b[39m(data[item][key]) \u001b[38;5;28;01mfor\u001b[39;00m key \u001b[38;5;129;01min\u001b[39;00m headers)\n\u001b[0;32m     25\u001b[0m     \u001b[38;5;28mprint\u001b[39m(row)\n",
      "\u001b[1;31mTypeError\u001b[0m: list indices must be integers or slices, not str"
     ]
    }
   ],
   "source": [
    "# Define the data for girls\n",
    "girls_data = {\n",
    "    'Name': ['Evelyn', 'Jessica', 'Somto', 'Edith', 'Liza', 'Madonna', 'Waje', 'Tola', 'Aisha', 'Latifa'],\n",
    "    'Age': [17, 16, 17, 18, 16, 18, 17, 20, 19, 17],\n",
    "    'Height': [5.5, 6.0, 5.4, 5.9, 5.6, 5.5, 6.1, 6.0, 5.7, 5.5],\n",
    "    'Score': [80, 85, 70, 60, 76, 66, 87, 95, 50, 49]\n",
    "}\n",
    "\n",
    "# Define the data for boys\n",
    "boys_data = {\n",
    "    'Name': ['Chinedu', 'Liam', 'Wale', 'Gbenga', 'Abiola', 'Kola', 'Kunle', 'George', 'Thomas', 'Wesley'],\n",
    "    'Age': [19, 16, 18, 17, 20, 19, 16, 18, 17, 19],\n",
    "    'Height': [5.7, 5.9, 5.8, 6.1, 5.9, 5.5, 6.1, 5.4, 5.8, 5.7],\n",
    "    'Score': [74, 87, 75, 68, 66, 78, 87, 98, 54, 60]\n",
    "}\n",
    "\n",
    "# Function to print data in tabular format\n",
    "def print_table(data):\n",
    "    headers = ['Name', 'Age', 'Height', 'Score']\n",
    "    header_row = '|'.join(headers)\n",
    "    print(header_row)\n",
    "    print('-' * len(header_row))\n",
    "    for item in data:\n",
    "        row = '|'.join(str(data[item][key]) for key in headers)\n",
    "        print(row)\n",
    "\n",
    "# Display the data for girls\n",
    "print(\"Girls:\")\n",
    "print_table(girls_data)\n",
    "\n",
    "# Display the data for boys\n",
    "print(\"\\nBoys:\")\n",
    "print_table(boys_data)\n",
    "\n"
   ]
  },
  {
   "cell_type": "code",
   "execution_count": null,
   "id": "bb733835-230b-402d-a040-9616e7056583",
   "metadata": {},
   "outputs": [],
   "source": []
  },
  {
   "cell_type": "code",
   "execution_count": null,
   "id": "63151f58-5a80-4f59-9d00-274a8ad4310a",
   "metadata": {},
   "outputs": [],
   "source": []
  }
 ],
 "metadata": {
  "kernelspec": {
   "display_name": "Python 3 (ipykernel)",
   "language": "python",
   "name": "python3"
  },
  "language_info": {
   "codemirror_mode": {
    "name": "ipython",
    "version": 3
   },
   "file_extension": ".py",
   "mimetype": "text/x-python",
   "name": "python",
   "nbconvert_exporter": "python",
   "pygments_lexer": "ipython3",
   "version": "3.11.7"
  }
 },
 "nbformat": 4,
 "nbformat_minor": 5
}
