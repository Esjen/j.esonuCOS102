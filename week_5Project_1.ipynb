{
 "cells": [
  {
   "cell_type": "code",
   "execution_count": 2,
   "id": "5d96efb2-97c0-4248-8c2b-0cf547ae4160",
   "metadata": {},
   "outputs": [
    {
     "ename": "NameError",
     "evalue": "name 'location' is not defined",
     "output_type": "error",
     "traceback": [
      "\u001b[1;31m---------------------------------------------------------------------------\u001b[0m",
      "\u001b[1;31mNameError\u001b[0m                                 Traceback (most recent call last)",
      "Cell \u001b[1;32mIn[2], line 22\u001b[0m\n\u001b[0;32m     19\u001b[0m     location \u001b[38;5;241m=\u001b[39m location_entry\u001b[38;5;241m.\u001b[39mget()\n\u001b[0;32m     20\u001b[0m     weight \u001b[38;5;241m=\u001b[39m weight_entry\u001b[38;5;241m.\u001b[39mget()\n\u001b[1;32m---> 22\u001b[0m \u001b[38;5;28;01mif\u001b[39;00m location \u001b[38;5;241m==\u001b[39m \u001b[38;5;124m\"\u001b[39m\u001b[38;5;124mIbeju-Lekki\u001b[39m\u001b[38;5;124m\"\u001b[39m \u001b[38;5;129;01mand\u001b[39;00m weight \u001b[38;5;241m>\u001b[39m\u001b[38;5;241m=\u001b[39m \u001b[38;5;241m10\u001b[39m :\n\u001b[0;32m     23\u001b[0m     WelcomeMessage(name)\n\u001b[0;32m     24\u001b[0m     messagebox\u001b[38;5;241m.\u001b[39mshowinfo(\u001b[38;5;124m\"\u001b[39m\u001b[38;5;124mYou will be charged a price of N5000 for the delivery\u001b[39m\u001b[38;5;124m\"\u001b[39m)\n",
      "\u001b[1;31mNameError\u001b[0m: name 'location' is not defined"
     ]
    }
   ],
   "source": [
    "import tkinter as tk\n",
    "from tkinter import messagebox\n",
    "from PIL import Image, ImageTk\n",
    "\n",
    "def WelcomeMessage(name,location,weight):\n",
    "    window = tk.Toplevel(root)\n",
    "    window.title(\"Admin Box\")\n",
    "    window.geometry(\"300x100\")\n",
    "\n",
    "    label_1 = tk.Label(window, text=f\"Welcome {name}\\n\")\n",
    "    label_1.pack()\n",
    "    label_2 = tk.Label(window, text=\"This is Simi Services!\")\n",
    "    label_2.pack()\n",
    "\n",
    "    root.mainloop()\n",
    "\n",
    "def submit():\n",
    "    name = name_entry.get()\n",
    "    location = location_entry.get()\n",
    "    weight = weight_entry.get()\n",
    "\n",
    "if location == \"Ibeju-Lekki\" and weight >= 10 :\n",
    "    WelcomeMessage(name)\n",
    "    messagebox.showinfo(\"You will be charged a price of N5000 for the delivery\")\n",
    "elif location == \"Ibeju-Lekki\" and weight < 10 :\n",
    "    WelcomeMessage(name)\n",
    "    messagebox.showinfo(\"You will be charged a price of N3500 for the delivery\")\n",
    "elif location == \"Epe\" and weight >= 10 :\n",
    "    WelcomeMessage(name)\n",
    "    messagebox.showinfo(\"You will be charged a price of N10000 for the delivery\")\n",
    "elif location == \"Epe\" and weight < 10 :\n",
    "    WelcomeMessage(name)\n",
    "    messagebox.showinfo(\"You will be charged a price of N5000 for your delivery\")\n",
    "else :\n",
    "    messagebox.showerror(\"ERROR! Invalid Location Input\")\n",
    "\n",
    "root = tk.Tk()\n",
    "root.title(\"Price Allocation Form\")\n",
    "root.geometry(\"500x200\")\n",
    "\n",
    "Name_label = tk.Label(root, text=\"Name:\")\n",
    "Name_label.pack()\n",
    "Name_entry = tk.Entry(root)\n",
    "Name_entry.pack()\n",
    "\n",
    "location_label = tk.Label(root, text=\"Location:\")\n",
    "location_label.pack()\n",
    "location_entry = tk.Entry(root)\n",
    "location_entry.pack()\n",
    "\n",
    "weight_label = tk.Label(root, text=\"Weight:\")\n",
    "weight_label.pack()\n",
    "weight_entry = tk.Entry(root)\n",
    "weight_entry.pack()\n",
    "\n",
    "submit_button = tk.Button(root, text=\"Submit\", command=submit)\n",
    "submit_button.pack()\n",
    "\n",
    "root.mainloop()\n",
    "\n",
    "\n",
    "    \n",
    "\n"
   ]
  },
  {
   "cell_type": "code",
   "execution_count": null,
   "id": "d9b3db51-d032-4129-809e-5e5d055642ad",
   "metadata": {},
   "outputs": [],
   "source": []
  }
 ],
 "metadata": {
  "kernelspec": {
   "display_name": "Python 3 (ipykernel)",
   "language": "python",
   "name": "python3"
  },
  "language_info": {
   "codemirror_mode": {
    "name": "ipython",
    "version": 3
   },
   "file_extension": ".py",
   "mimetype": "text/x-python",
   "name": "python",
   "nbconvert_exporter": "python",
   "pygments_lexer": "ipython3",
   "version": "3.11.7"
  }
 },
 "nbformat": 4,
 "nbformat_minor": 5
}
