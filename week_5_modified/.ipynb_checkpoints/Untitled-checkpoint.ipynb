{
 "cells": [
  {
   "cell_type": "code",
   "execution_count": null,
   "id": "2d993ab2-caee-4e66-91f0-cfa0b18e8fa6",
   "metadata": {},
   "outputs": [
    {
     "name": "stdin",
     "output_type": "stream",
     "text": [
      "What department do you belong to? (computer science / mass communication) mass communication\n"
     ]
    },
    {
     "name": "stdout",
     "output_type": "stream",
     "text": [
      "Candidates must have at least credits or a score above 49 in the following subjects listed below:\n",
      "1.) MATHS\n",
      "2.) ENGLISH\n",
      "3.) CIVIC EDUCATION\n",
      "4.) GOVERNMENT\n",
      "5.) ECONOMICS\n"
     ]
    },
    {
     "name": "stdin",
     "output_type": "stream",
     "text": [
      "Candidates name: John\n",
      "Candidates age(in years): 16\n",
      "Gender: binary\n",
      "Candidates Examination Number: 3456789\n",
      "Candidates Jamb Score: 237\n",
      "Candidates Maths Score(%): 56\n",
      "Candidates English Score(%): 56\n",
      "Candidates Civic Education Score(%): 56\n",
      "Candidates Government Score(%): 56\n",
      "Candidates Economics Score(%): 56\n",
      "Candidates Agricultural Science Score(%): 56\n",
      "Candidates Literature Score(%): 56\n",
      "Candidates Marketing Score(%): 56\n"
     ]
    }
   ],
   "source": [
    "import array as arr\n",
    "\n",
    "def computer_science():\n",
    "    print(\"Candidates must have at least credits or a score above 49 in the following subjects listed below:\")\n",
    "    print(\"1.) MATHS\")\n",
    "    print(\"2.) ENGLISH\")\n",
    "    print(\"3.) BIOLOGY\")\n",
    "    print(\"4.) CHEMISTRY\")\n",
    "    print(\"5.) PHYSICS \")\n",
    "\n",
    "    name = input(\"Candidates name:\")\n",
    "    age = int(input(\"Candidates age(in years):\"))\n",
    "    gender = input(\"Gender:\")\n",
    "    examination_number = input(\"Candidates Examination Number:\")  \n",
    "    jamb_score = float(input(\"Candidates Jamb Score:\"))\n",
    "    maths_score = float(input(\"Candidates Maths Score(%):\"))\n",
    "    english_score = float(input(\"Candidates English Score(%):\"))\n",
    "    biology_score = float(input(\"Candidates Biology Score(%):\"))\n",
    "    chemistry_score = float(input(\"Candidates Chemistry Score(%):\"))\n",
    "    physics_score = float(input(\"Candidates Physics Score(%):\"))\n",
    "    data_processing = float(input(\"Candidates Data Processing Score(%):\"))\n",
    "    civic_score = float(input(\"Candidates Civic Education Score(%):\"))\n",
    "    further_maths = float(input(\"Candidates Further Mathematics Score(%):\"))\n",
    "    technical_drawing = float(input(\"Candidates Technical Drawing score(%):\"))\n",
    "    interview_status = input(\"Did you pass your interview?\")\n",
    "\n",
    "    if jamb_score >= 250 and jamb_score <= 400 and maths_score >= 50 and maths_score <= 100 and english_score >= 50 and english_score <= 100 and biology_score >= 50 and biology_score <= 100 and chemistry_score >= 50 and chemistry_score <= 100 and physics_score >= 50 and physics_score <= 100 and data_processing <= 100 and civic_score <= 100 and further_maths <= 100 and technical_drawing <= 100 and interview_status.lower() == \"yes\" and age >= 15 and gender == \"male\" or gender == \"female\":\n",
    "        admitted = [name, gender, age, jamb_score, maths_score, english_score, biology_score, chemistry_score, physics_score, data_processing, civic_score, further_maths, technical_drawing]\n",
    "        print(f\"Congratulations {name}, you have been admitted into the Computer Science department! Good job \")\n",
    "        print(\"Candidates details:\") \n",
    "        print(admitted)\n",
    "    else:\n",
    "        not_admitted = [name,gender,age, jamb_score, maths_score, english_score, biology_score, chemistry_score, physics_score, data_processing, civic_score, further_maths, technical_drawing]\n",
    "        print(\"You are not admitted, thanks for considering us.\")\n",
    "        print(\"Candidates details:\")\n",
    "        print(not_admitted)\n",
    "\n",
    "def mass_communication():\n",
    "    print(\"Candidates must have at least credits or a score above 49 in the following subjects listed below:\")\n",
    "    print(\"1.) MATHS\")\n",
    "    print(\"2.) ENGLISH\")\n",
    "    print(\"3.) CIVIC EDUCATION\")\n",
    "    print(\"4.) GOVERNMENT\")\n",
    "    print(\"5.) ECONOMICS\")\n",
    "\n",
    "    name = input(\"Candidates name:\")\n",
    "    age = int(input(\"Candidates age(in years):\"))\n",
    "    gender = input(\"Gender:\")\n",
    "    examination_number = input(\"Candidates Examination Number:\")  \n",
    "    jamb_score = float(input(\"Candidates Jamb Score:\"))\n",
    "    maths_score = float(input(\"Candidates Maths Score(%):\"))\n",
    "    english_score = float(input(\"Candidates English Score(%):\"))\n",
    "    civic_score = float(input(\"Candidates Civic Education Score(%):\"))\n",
    "    government_score = float(input(\"Candidates Government Score(%):\"))\n",
    "    economics_score = float(input(\"Candidates Economics Score(%):\"))\n",
    "    agric_science = float(input(\"Candidates Agricultural Science Score(%):\"))\n",
    "    literature_score = float(input(\"Candidates Literature Score(%):\"))\n",
    "    marketing_score = float(input(\"Candidates Marketing Score(%):\"))\n",
    "    commerce_score = float(input(\"Candidates Commerce score(%):\"))\n",
    "    interview_status = input(\"Did you pass your interview?\")\n",
    "\n",
    "    if jamb_score >= 230  and jamb_score <= 400 and maths_score >= 50 and maths_score <= 100 and english_score >= 50 and english_score <= 100 and civic_score >= 50 and civic_score <= 100 and government_score >= 50 and government_score <= 100 and economics_score >= 50 and economics_score <= 100 and agric_science <= 100 and literature_score <= 100 and marketing_score <= 100 and commerce_score <= 100 and interview_status.lower() == \"yes\" and age >= 15 and gender == \"male\" or gender == \"female\":\n",
    "        admitted = [name, gender, age, jamb_score, maths_score, english_score, civic_score, government_score, economics_score, agric_science, literature_score, marketing_score, commerce_score]\n",
    "        print(f\"Congratulations {name}, you have been admitted into the Mass Communication Department! Good job \")\n",
    "        print(\"Candidates details:\")\n",
    "        print(admitted)\n",
    "    else:\n",
    "        not_admitted = [name, gender, age, jamb_score, maths_score, english_score, civic_score, government_score, economics_score, agric_science, literature_score, marketing_score, commerce_score]\n",
    "        print(\"You are not admitted, thanks for considering us.\")\n",
    "        print(\"Candidates details:\")\n",
    "        print(not_admitted)\n",
    "\n",
    "def course():\n",
    "    applied_course = input(\"What department do you belong to? (computer science / mass communication)\").lower()\n",
    "    if applied_course == \"computer science\":\n",
    "        computer_science()\n",
    "    elif applied_course == \"mass communication\":\n",
    "        mass_communication()\n",
    "    else:\n",
    "        print(\"The Department you entered is not within our scope of interest\")\n",
    "\n",
    "course()\n"
   ]
  },
  {
   "cell_type": "code",
   "execution_count": null,
   "id": "169b7197-d70d-4dfa-b138-7a65995471bb",
   "metadata": {},
   "outputs": [],
   "source": []
  }
 ],
 "metadata": {
  "kernelspec": {
   "display_name": "Python 3 (ipykernel)",
   "language": "python",
   "name": "python3"
  },
  "language_info": {
   "codemirror_mode": {
    "name": "ipython",
    "version": 3
   },
   "file_extension": ".py",
   "mimetype": "text/x-python",
   "name": "python",
   "nbconvert_exporter": "python",
   "pygments_lexer": "ipython3",
   "version": "3.11.7"
  }
 },
 "nbformat": 4,
 "nbformat_minor": 5
}
