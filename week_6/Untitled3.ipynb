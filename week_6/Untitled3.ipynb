{
 "cells": [
  {
   "cell_type": "code",
   "execution_count": null,
   "id": "262cb51a-957c-42d4-8475-b9233d31de0d",
   "metadata": {},
   "outputs": [],
   "source": [
    "# 1.) ALGORITHM FOR THE CODE\n",
    "\n",
    "# 2.) Import necessary libraries: tkinter for GUI and messagebox for displaying messages.\n",
    "\n",
    "# 3.) Define a dictionary menu_prices containing menu items and their prices.\n",
    "\n",
    "# 4.) Define a function menu_display() to create a GUI window displaying the menu items.\n",
    "\n",
    "# 5.) Define a function calculate_total_cost(order, quantity) to calculate the total cost of the order based on the given order and quantity, applying discounts as per the conditions.\n",
    "\n",
    "#6.) Define a function place_order() to handle the order placement. This function:\n",
    "\n",
    "#7.) Retrieves input values for name, order, and quantity.\n",
    "\n",
    "#8.)Checks if the order is valid and if the quantity is a positive integer.\n",
    "\n",
    "#9.) Calculates the total cost using the calculate_total_cost() function.\n",
    "\n",
    "#10.) Displays the total cost in a messagebox.\n",
    "\n",
    "#11.) Create the main GUI window:\n",
    "\n",
    "#12.) Add labels and entry fields for name, order, and quantity.\n",
    "\n",
    "#13.) Add a button to submit the order, calling the place_order() function.\n",
    "\n",
    "#14.)Run the GUI main loop."
   ]
  }
 ],
 "metadata": {
  "kernelspec": {
   "display_name": "Python 3 (ipykernel)",
   "language": "python",
   "name": "python3"
  },
  "language_info": {
   "codemirror_mode": {
    "name": "ipython",
    "version": 3
   },
   "file_extension": ".py",
   "mimetype": "text/x-python",
   "name": "python",
   "nbconvert_exporter": "python",
   "pygments_lexer": "ipython3",
   "version": "3.11.7"
  }
 },
 "nbformat": 4,
 "nbformat_minor": 5
}
