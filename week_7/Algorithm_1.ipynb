{
 "cells": [
  {
   "cell_type": "code",
   "execution_count": 1,
   "id": "3795b6f7-003e-4a74-8470-ad7feef64f5c",
   "metadata": {},
   "outputs": [
    {
     "ename": "SyntaxError",
     "evalue": "invalid syntax (1820635036.py, line 3)",
     "output_type": "error",
     "traceback": [
      "\u001b[1;36m  Cell \u001b[1;32mIn[1], line 3\u001b[1;36m\u001b[0m\n\u001b[1;33m    step 1: Start:\u001b[0m\n\u001b[1;37m         ^\u001b[0m\n\u001b[1;31mSyntaxError\u001b[0m\u001b[1;31m:\u001b[0m invalid syntax\n"
     ]
    }
   ],
   "source": [
    "# ALGORITHM FOR SOURCE CODE\n",
    "\n",
    "step 1: Start:\n",
    "Import necessary libraries: tkinter for GUI and messagebox for displaying messages.\n",
    "Define a dictionary menu_prices containing menu items and their prices.\n",
    "    \n",
    "step 2: Define a function to display the menu:\n",
    "Start:\n",
    "Create a new window to display the menu.\n",
    "Add labels for each menu item and its price to the window.\n",
    "Stop.\n",
    "    \n",
    "step 3: Define a function to calculate the total cost of the order:\n",
    "Start:\n",
    "If order is not in menu_prices:\n",
    "Display an error message.\n",
    "Return.\n",
    "If quantity is not a positive integer:\n",
    "Display an error message.\n",
    "Return.\n",
    "Calculate the total cost of the order based on the given order and quantity.\n",
    "Apply discounts based on the total cost.\n",
    "Return the total cost.\n",
    "Stop.\n",
    "    \n",
    "step 4: Define a function to obtain orders from users:\n",
    "Start:\n",
    "Get input values for name, order, and quantity.\n",
    "Call calculate_total_cost(order, quantity) to get the total cost.\n",
    "Create a new window to display the total cost.\n",
    "Display the total cost in the new window.\n",
    "Stop.\n",
    "    \n",
    "step 5: Create the main GUI window:\n",
    "Start:\n",
    "Create the main window.\n",
    "Add labels and entry fields for name, order, and quantity to the main window.\n",
    "Add a button labeled \"Submit\" to the main window, calling the place_order() function.\n",
    "Stop.\n",
    "    \n",
    "step 6: Run the GUI main loop."
   ]
  },
  {
   "cell_type": "code",
   "execution_count": null,
   "id": "031e6816-0c48-468b-aa3d-547f354fe01f",
   "metadata": {},
   "outputs": [],
   "source": []
  }
 ],
 "metadata": {
  "kernelspec": {
   "display_name": "Python 3 (ipykernel)",
   "language": "python",
   "name": "python3"
  },
  "language_info": {
   "codemirror_mode": {
    "name": "ipython",
    "version": 3
   },
   "file_extension": ".py",
   "mimetype": "text/x-python",
   "name": "python",
   "nbconvert_exporter": "python",
   "pygments_lexer": "ipython3",
   "version": "3.11.7"
  }
 },
 "nbformat": 4,
 "nbformat_minor": 5
}
